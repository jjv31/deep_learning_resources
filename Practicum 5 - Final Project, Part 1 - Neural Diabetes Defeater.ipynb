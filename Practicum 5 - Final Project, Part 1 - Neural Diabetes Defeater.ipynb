{
 "cells": [
  {
   "cell_type": "markdown",
   "id": "ffc2e236-b4fe-4cb7-8b34-31743cf1d86e",
   "metadata": {},
   "source": [
    "# Final Project, Part 1: Neural-Network-Based Diabetes Defeater"
   ]
  },
  {
   "cell_type": "markdown",
   "id": "ec0d34b8-896c-46c8-be3e-02e2d245987c",
   "metadata": {},
   "source": [
    "### Overview"
   ]
  },
  {
   "cell_type": "markdown",
   "id": "bcc5d13e-2f32-4d4e-aa90-1bc45ad7df94",
   "metadata": {},
   "source": [
    "You'll be developing the diabetes defeater! This is a neural network that can predict individuals that will diagnosed as diabetic within 3 years."
   ]
  },
  {
   "cell_type": "markdown",
   "id": "9efa5fa8-3020-4f6c-8a3e-93c11d1acc91",
   "metadata": {},
   "source": [
    "<div style=\"text-align: center;\"> <img src = \"res/final_project/dd_icon.jpg\" width=\"25%\"/> </div>"
   ]
  },
  {
   "cell_type": "markdown",
   "id": "0c89fdc7-b7a9-4eb1-87c9-7cf3dc33be36",
   "metadata": {},
   "source": [
    "However, the initial neural network used to detect diabetes is performing terribly. Your job is to fix it. Its diagram appears below."
   ]
  },
  {
   "cell_type": "markdown",
   "id": "7896d31e-7dbb-4d08-a662-1e5037efe759",
   "metadata": {},
   "source": [
    "<div style=\"text-align: center;\"> <img src = \"res/final_project/dd_initial_nn.jpg\" width=\"30%\"/> </div>"
   ]
  },
  {
   "cell_type": "markdown",
   "id": "7595d22e-2a4f-4da1-9168-3019b6f8a907",
   "metadata": {},
   "source": [
    "## Codebook"
   ]
  },
  {
   "cell_type": "markdown",
   "id": "14568f7f-300b-474b-9b85-4f5d018188ec",
   "metadata": {},
   "source": [
    "Here are the features and label in the CDC diabetes dataset. Note that the preprocessing will be done for you, so these are less relevant. Also note that this is not the same dataset as the machine learning course, as it includes far more data."
   ]
  },
  {
   "cell_type": "markdown",
   "id": "a02af0d7-af13-4a4f-874a-858863621f23",
   "metadata": {},
   "source": [
    "\n",
    "<strong> Label (Binary) </strong>\n",
    "<ul>\n",
    "  <li> <strong>Diabetic_3Years.</strong> Whether the individual will be diagnosed with diabetes in 3 years time. 1 = diagnosed with diabetes. 0 = no diagnosis </li>\n",
    "</ul>\n",
    "\n",
    "\n",
    "<strong> Features: Binary</strong>\n",
    "<ul>\n",
    "  <li> <strong>HighBP.</strong> Whether the individual currently has high blood pressure (1) or not (0).  </li>\n",
    "  <li> <strong>HighChol.</strong> Whether the individual currently has high cholesterol (1) or not (0). </li>\n",
    "  <li> <strong>CholChecked_Last5Years.</strong> Whether the had a cholesterol check within the last 5 years (1) or not (0). </li>\n",
    "  <li> <strong>EverBeenSmoker.</strong> Whether the individual has smoked at least 100 cigarettes (approximately 20 packs) in his/her lifetime. </li>\n",
    "    <li> <strong>EverHadStroke.</strong> Whether the individual has ever had a stroke (1) or not (0). </li>\n",
    "    <li> <strong>EverHadHeartDiseaseOrAttack.</strong> Whether the individual has ever had heart disease or a heart attack (1) or not (0). </li>\n",
    "  <li> <strong>PhysActivity_Last30Days.</strong> Whether the individual has engaged in physical activity in the last 30 days, exluding work (1) or not (0). </li>\n",
    "    <li> <strong>Fruits_OncePerDay.</strong> Whether the individual eats fruits once per day (1) or not (0). </li>\n",
    "    <li> <strong>Veggies_OncePerDay.</strong> Whether the individual eats veggies once per day (1) or not (0). </li>\n",
    "    <li> <strong>HvyAlcoholConsump.</strong> Whether the individual drinks >= 14 drinks per week for men or >= 7 drinks per week for women (1) or not (0). </li>\n",
    "    <li> <strong>AnyHealthcare.</strong> Whether the individual has health insurance or other forms of healthcare (1) or not (0). </li>\n",
    "    <li> <strong>TooPoorForDoctor_Last1Year.</strong> Whether the individual wanted to see a doctor in the past 12 months but didn't because he/she couldn't afford it (1) or not (0). </li>\n",
    "    <li> <strong>DiffWalk.</strong> Whether the individual has difficulty walking or climbing stairs (1) or not (0) </li>\n",
    "    <li> <strong>IsMale.</strong> Whether the individual is a man (1) or woman (0) </li>\n",
    "</ul>\n",
    "\n",
    "<strong> Features: Categorical </strong>\n",
    "<ul>\n",
    "  <li> <strong>HealthSelfAssessment_General.</strong> Individual's self assessment of his/her general health. 1 = excellent 2 = very good 3 = good 4 = fair 5 = poor.</li>\n",
    "    <li> <strong>AgeGroup.</strong> Age group, broken into age band. 1 = 18-24, 2 = 24 = 29, [...], 9 = 60-64, [...] 13 = 80 or older</li>\n",
    "    <li> <strong>Education.</strong> Education Level. 1 = Never attended school or only kindergarten, 2 = Grades 1 through 8 (Elementary), 3 = Grades 9 through 11 (Some high school), 4 = Grade 12 or GED (High school graduate), 5 = College 1 year to 3 years (Some college or technical school), 6 = College 4 years or more (College graduate). </li>\n",
    "    <li> <strong>IncomeGroup.</strong> Income group, on scale 1-8. 1 = less than $10,000, [...] 8 = $75,000 or more</li>\n",
    "</ul>\n",
    "\n",
    "\n",
    "<strong> Features: Numeric </strong>\n",
    "<ul>\n",
    "  <li> <strong>BMI.</strong> Body mass index. < 18.5 indicates underweight. 18.5 - 24.9 indicates normal. 25 - 29.9 indicates overweight. 30 - 34.9 indicates Class I Obesity. 35 - 39.9 indicates Class 2 Obesity, whereas >= 40 indicates Class 3 obesity.</li>\n",
    "</ul>\n"
   ]
  },
  {
   "cell_type": "markdown",
   "id": "0fcab8ad-f3f5-436e-9052-d9d150652b9a",
   "metadata": {
    "jp-MarkdownHeadingCollapsed": true
   },
   "source": [
    "# 0 | Google Colab Setup"
   ]
  },
  {
   "cell_type": "code",
   "execution_count": null,
   "id": "2f0a3a23-7d10-44ae-8929-4f782975bebe",
   "metadata": {},
   "outputs": [],
   "source": [
    "import os\n",
    "import shutil\n",
    "import stat"
   ]
  },
  {
   "cell_type": "code",
   "execution_count": null,
   "id": "a61d54cf-257d-4902-b27a-049c5fbbe8e6",
   "metadata": {},
   "outputs": [],
   "source": [
    "def copy_safe(src, dst, max_len=200):\n",
    "    \"\"\"Copy files, skip long paths\"\"\"\n",
    "    skipped = 0\n",
    "    for root, dirs, files in os.walk(src):\n",
    "        rel_path = os.path.relpath(root, src)\n",
    "        dst_root = os.path.join(dst, rel_path) if rel_path != '.' else dst\n",
    "        if len(dst_root) < max_len:\n",
    "            os.makedirs(dst_root, exist_ok=True)\n",
    "            for file in files:\n",
    "                dst_file = os.path.join(dst_root, file)\n",
    "                if len(dst_file) < max_len:\n",
    "                    try: shutil.copy2(os.path.join(root, file), dst_file)\n",
    "                    except: skipped += 1\n",
    "                else: skipped += 1\n",
    "        else: skipped += len(files)\n",
    "    return skipped"
   ]
  },
  {
   "cell_type": "code",
   "execution_count": null,
   "id": "236f2e78-ba80-4e3d-bb34-304aa69c85ad",
   "metadata": {},
   "outputs": [],
   "source": [
    "# Setup resources if needed\n",
    "setup_ran = False\n",
    "if not os.path.exists('res'):\n",
    "    print(\"Setting up resources...\")\n",
    "    setup_ran = True\n",
    "    \n",
    "    # Cleanup, clone, copy\n",
    "    repo = 'deep_learning_resources'\n",
    "    if os.path.exists(repo):\n",
    "        shutil.rmtree(repo, onerror=lambda f,p,e: os.chmod(p, stat.S_IWRITE) or f(p))\n",
    "    \n",
    "    !git clone --depth=1 https://github.com/jjv31/deep_learning_resources\n",
    "    \n",
    "    if os.path.exists(f'{repo}/res'):\n",
    "        skipped = copy_safe(f'{repo}/res', 'res')\n",
    "        print(f\"Setup complete! {'(' + str(skipped) + ' long filenames skipped)' if skipped else ''}\")\n",
    "    \n",
    "    shutil.rmtree(repo, onerror=lambda f,p,e: os.chmod(p, stat.S_IWRITE) or f(p))"
   ]
  },
  {
   "cell_type": "code",
   "execution_count": null,
   "id": "342e655f-047f-421e-a33d-2ba2b1b9e699",
   "metadata": {},
   "outputs": [],
   "source": [
    "# Only refresh if we just downloaded resources\n",
    "if setup_ran:\n",
    "    from IPython.display import Javascript, display\n",
    "    import time\n",
    "    \n",
    "    print(\"Refreshing images...\")\n",
    "    \n",
    "    # Try browser refresh + aggressive image reload\n",
    "    display(Javascript(f'''\n",
    "    try {{ setTimeout(() => window.location.reload(true), 2000); }} catch(e) {{}}\n",
    "    \n",
    "    const t = {int(time.time())};\n",
    "    document.querySelectorAll('img').forEach((img, i) => {{\n",
    "        if (img.src.includes('res/')) {{\n",
    "            const src = img.src.split('?')[0];\n",
    "            setTimeout(() => img.src = src + '?v=' + t + '_' + i, i * 50);\n",
    "        }}\n",
    "    }});\n",
    "    '''))\n",
    "    \n",
    "    print(\"If images don't appear, press Ctrl+Shift+R to hard refresh!\")\n",
    "else:\n",
    "    print(\"Resources already exist, skipping setup.\")"
   ]
  },
  {
   "cell_type": "markdown",
   "id": "8de942b6-b227-4736-9364-fc247fa0b158",
   "metadata": {
    "jp-MarkdownHeadingCollapsed": true,
    "tags": []
   },
   "source": [
    "# 1 | Introduction: Load & Preprocess Dataset"
   ]
  },
  {
   "cell_type": "markdown",
   "id": "79d861f2-77f8-401b-b33c-01954c4ad5cc",
   "metadata": {},
   "source": [
    "### 1.0 | Imports & Auxilary Functions"
   ]
  },
  {
   "cell_type": "markdown",
   "id": "24bdd2e9-22cb-42c6-b3db-969d7de66cd0",
   "metadata": {},
   "source": [
    "Just run these. No need to modify them."
   ]
  },
  {
   "cell_type": "code",
   "execution_count": null,
   "id": "d726a01a-d12f-4550-9f7a-d904f381413c",
   "metadata": {
    "scrolled": true
   },
   "outputs": [],
   "source": [
    "#TQDM\n",
    "%pip install tqdm"
   ]
  },
  {
   "cell_type": "code",
   "execution_count": null,
   "id": "dfaf75a0",
   "metadata": {},
   "outputs": [],
   "source": [
    "#load libraries\n",
    "import pandas as pd\n",
    "import numpy as np\n",
    "import matplotlib.pyplot as plt\n",
    "import seaborn as sns\n",
    "\n",
    "#Scikit-learn libraries\n",
    "from sklearn.preprocessing import MinMaxScaler\n",
    "from sklearn.model_selection import train_test_split\n",
    "from sklearn.metrics import accuracy_score, precision_score, recall_score, f1_score\n",
    "from sklearn.metrics import confusion_matrix\n",
    "\n",
    "#Set plot styles\n",
    "%matplotlib inline\n",
    "sns.set_style(\"whitegrid\")\n",
    "plt.style.use(\"fivethirtyeight\")\n",
    "\n",
    "# Get Pandas to display all rows/columns\n",
    "pd.set_option('future.no_silent_downcasting', True)\n",
    "pd.set_option('display.max_columns', None)\n",
    "pd.set_option('display.max_rows', None) "
   ]
  },
  {
   "cell_type": "code",
   "execution_count": null,
   "id": "2540e873-2653-403e-a8e8-d7d186a5e627",
   "metadata": {},
   "outputs": [],
   "source": [
    "import warnings\n",
    "warnings.filterwarnings('ignore')"
   ]
  },
  {
   "cell_type": "code",
   "execution_count": null,
   "id": "a68f0c2a-fb5c-4378-ac47-cb926c2790ca",
   "metadata": {},
   "outputs": [],
   "source": [
    "# Neural Network\n",
    "from keras.models import Sequential\n",
    "from keras.layers import Dense, Input, Dropout\n",
    "from keras.optimizers import Adam\n",
    "from tensorflow.keras import regularizers\n",
    "import keras as keras"
   ]
  },
  {
   "cell_type": "code",
   "execution_count": null,
   "id": "2cca2739-9925-4561-908b-36759dc3dbf7",
   "metadata": {},
   "outputs": [],
   "source": [
    "def print_univariates_categorical(data):\n",
    "    data = data.astype(str) # Prevents error when sorting between strings and bools\n",
    "    numbers = data.value_counts().sort_index()\n",
    "    percentage = numbers / numbers.sum() * 100\n",
    "    percentage = percentage.round(2)\n",
    "    \n",
    "    for c, i in enumerate(numbers.index):\n",
    "        print(f\"{i}\\t\\t{numbers.iloc[c]}\\t{percentage.iloc[c]}%\")"
   ]
  },
  {
   "cell_type": "code",
   "execution_count": null,
   "id": "d973c4b6-6c48-4cce-91a7-b126721677cc",
   "metadata": {},
   "outputs": [],
   "source": [
    "def print_univariates_metric(data, nameToPrint=None):\n",
    "\n",
    "    # Mode - Handling multimodal cases\n",
    "    mode_result = data.mode()\n",
    "    if len(mode_result) == 0:  # No mode found\n",
    "        mode_result = None\n",
    "    else:\n",
    "        mode_result = mode_result[0]\n",
    "\n",
    "    # Print output\n",
    "    print(f\"Descriptives for {nameToPrint}\")\n",
    "    print(f\"Mean = {round(data.mean(),2)} | Median = {round(data.median(),2)} | Mode = {mode_result} | \"\n",
    "          f\"Min = {data.min()} | Max = {data.max()} | SD = {round(data.std(),2)} | \"\n",
    "          f\"IQR(25) = {data.quantile(0.25)} | IQR(75) = {data.quantile(0.75)}\")"
   ]
  },
  {
   "cell_type": "code",
   "execution_count": null,
   "id": "dc4ea3f8-cc84-4bff-a145-31bd1452e0e5",
   "metadata": {},
   "outputs": [],
   "source": [
    "#Function to facilitate evaluating our models\n",
    "def print_score(clf, X, y_true):\n",
    "\n",
    "    # Gets predicted labels\n",
    "    if isinstance(clf, keras.models.Sequential): # If the model is a Keras neural network\n",
    "        y_pred = (clf.predict(X) >= 0.5).astype(int) \n",
    "    else: # Normal scikit-learn model\n",
    "        y_pred = clf.predict(X)\n",
    "\n",
    "    # Gets key performance indicators\n",
    "    accuracy = round(accuracy_score(y_true, y_pred), 4)\n",
    "    recall = round(recall_score(y_true, y_pred), 4)\n",
    "    precision = round(precision_score(y_true, y_pred), 4)\n",
    "    f1 = round(f1_score(y_true, y_pred), 4)\n",
    "\n",
    "    # Displays them\n",
    "    print(f\"F1 = {f1:.4f} | Recall = {recall* 100:.2f}% | Precision = {precision*100:.2f}%\")"
   ]
  },
  {
   "cell_type": "code",
   "execution_count": null,
   "id": "7c224472-558c-40db-aef7-84fe0b0a4e9c",
   "metadata": {},
   "outputs": [],
   "source": [
    "# Plots the performance of the neural network\n",
    "def plot_performance(training_values, validation_values, metric_name = \"Recall\"):\n",
    "\n",
    "    epochs = range(1, len(training_values) + 1)\n",
    "    \n",
    "    sns.set() \n",
    "    plt.plot(epochs, training_values, '-', label=f'Training {metric_name}')\n",
    "    plt.plot(epochs, validation_values, ':', label=f'Validation {metric_name}')\n",
    "\n",
    "    plt.title(f'Training and Validation {metric_name}')\n",
    "    plt.xlabel('Epoch')\n",
    "    plt.ylabel(metric_name)\n",
    "    plt.legend(loc='lower right')\n",
    "    plt.plot()"
   ]
  },
  {
   "cell_type": "markdown",
   "id": "9bf9e797-92e9-4a90-a958-cc89d1b66469",
   "metadata": {},
   "source": [
    "### 1.1 | Import & Explore Data"
   ]
  },
  {
   "cell_type": "code",
   "execution_count": null,
   "id": "9a91185d",
   "metadata": {},
   "outputs": [],
   "source": [
    "df = pd.read_csv(\"res/final_project/cdc_diabetes_v2.csv\")\n",
    "df.head(3)"
   ]
  },
  {
   "cell_type": "code",
   "execution_count": null,
   "id": "61fce323-58e3-44f8-8a7f-f0eee951f7e3",
   "metadata": {},
   "outputs": [],
   "source": [
    "# Displays the label\n",
    "print(\"Diabetes in 3 years?\")\n",
    "print_univariates_categorical(df[\"Diabetes_3Years\"])"
   ]
  },
  {
   "cell_type": "code",
   "execution_count": null,
   "id": "b13a7d2f-f6ff-47ca-9c26-647107356668",
   "metadata": {},
   "outputs": [],
   "source": [
    "# Any missing values?\n",
    "if df.isnull().sum().sum() > 0:\n",
    "    print(\"There are missing values in the DataFrame.\")\n",
    "else:\n",
    "    print(\"Congratulations. There are no missing values in the DataFrame.\")"
   ]
  },
  {
   "cell_type": "markdown",
   "id": "3b9c65b6-daca-4180-b7a8-ac5028c7484a",
   "metadata": {},
   "source": [
    "### 1.2 | Preprocess Dataset"
   ]
  },
  {
   "cell_type": "code",
   "execution_count": null,
   "id": "f767dcad-ff1a-41e6-a164-330a35798f8a",
   "metadata": {},
   "outputs": [],
   "source": [
    "df.head(1)"
   ]
  },
  {
   "cell_type": "code",
   "execution_count": null,
   "id": "c3ed55c7-ecb0-4e1e-9aa9-554a82d19dc2",
   "metadata": {},
   "outputs": [],
   "source": [
    "# Calculates z scores for BMI, thereby transforming it into a much smaller number more conducive for our neural network\n",
    "\n",
    "# Prints BMI stats\n",
    "print_univariates_metric(df[\"BMI\"], \"BMI\")\n",
    "\n",
    "# Calculates & converts to z scores\n",
    "df['BMI'] = round( ( df['BMI'] - df['BMI'].mean() ) / df['BMI'].std(), 4)\n",
    "\n",
    "# Prints BMI post z-scores\n",
    "print_univariates_metric(df[\"BMI\"], \"BMI (z-scores)\")"
   ]
  },
  {
   "cell_type": "code",
   "execution_count": null,
   "id": "38b357f9-4be7-4978-bbc7-6ca45f8e97e7",
   "metadata": {},
   "outputs": [],
   "source": [
    "# We have a bunch of ordinal variables. \n",
    "# Let's convert them to a number between 0 and 1 rather than 0 and their max value (e.g., 13)\n",
    "\n",
    "# We'll use scikit learn's min-max scaler to do this\n",
    "scaler = MinMaxScaler()\n",
    "\n",
    "# First, we'll show an example\n",
    "print(\"Self assessment scores before scaling\")\n",
    "print_univariates_categorical(df[\"HealthSelfAssessment_General\"])\n",
    "df['HealthSelfAssessment_General'] = scaler.fit_transform(df[['HealthSelfAssessment_General']])\n",
    "print(\"\\nSelf assessment scores after scaling\")\n",
    "print_univariates_categorical(df[\"HealthSelfAssessment_General\"])\n",
    "\n",
    "# Now, we'll do the rest\n",
    "df['AgeGroup'] = scaler.fit_transform(df[['AgeGroup']])\n",
    "df['Education'] = scaler.fit_transform(df[['Education']])\n",
    "df['IncomeGroup'] = scaler.fit_transform(df[['IncomeGroup']])"
   ]
  },
  {
   "cell_type": "code",
   "execution_count": null,
   "id": "4846b36b-597d-4361-9749-8d81024debda",
   "metadata": {},
   "outputs": [],
   "source": [
    "# Let's display our pre-processed dataframe\n",
    "df.head(1)"
   ]
  },
  {
   "cell_type": "markdown",
   "id": "8d7b3006-715d-4e0b-8cc0-8ab2d7ca4627",
   "metadata": {},
   "source": [
    "### 1.3 | Splits Dataset "
   ]
  },
  {
   "cell_type": "code",
   "execution_count": null,
   "id": "3272cbec-ac4f-42eb-a340-40dca7773e11",
   "metadata": {},
   "outputs": [],
   "source": [
    "X = df.drop(['Diabetes_3Years'], axis=1)\n",
    "y = df['Diabetes_3Years']"
   ]
  },
  {
   "cell_type": "code",
   "execution_count": null,
   "id": "7fa1b3d3-c1c8-4cce-9019-8e19ecc8993a",
   "metadata": {},
   "outputs": [],
   "source": [
    "X_train, X_test, y_train, y_test = train_test_split(X, y, test_size=0.2, random_state=42)"
   ]
  },
  {
   "cell_type": "code",
   "execution_count": null,
   "id": "236ed93b-0297-4cd5-9ac8-b3481ca62f26",
   "metadata": {},
   "outputs": [],
   "source": [
    "#Let's examine the sizes of the training and testing sets\n",
    "print(f\"Training set size = {y_train.size}\\nTesting set size = {y_test.size}\")"
   ]
  },
  {
   "cell_type": "markdown",
   "id": "7e11fc0b-7464-4d77-8ad2-5787d009ea65",
   "metadata": {
    "jp-MarkdownHeadingCollapsed": true,
    "tags": []
   },
   "source": [
    "# 2 | Construct Neural Nework"
   ]
  },
  {
   "cell_type": "markdown",
   "id": "08df5cf0-6f2b-4afe-bf8a-84cf604de9de",
   "metadata": {},
   "source": [
    "### 2.0 | Overview"
   ]
  },
  {
   "cell_type": "markdown",
   "id": "c704c800-7efc-4645-b29e-8d9501f63dfa",
   "metadata": {},
   "source": [
    "You'll need to construce, evaluate, & iteratively improve a neural network that can detect diabetes. Keep these two steps in mind as you're constructing the neural network, and refer to practicum #1"
   ]
  },
  {
   "cell_type": "markdown",
   "id": "55f77aea-933b-48ed-8166-8c2f8e40b62c",
   "metadata": {},
   "source": [
    "<div style=\"text-align: center;\"> <img src = \"res/model_building/money_marker_steps_to_fixing_nn.jpg\" width=\"30%\"/> </div>"
   ]
  },
  {
   "cell_type": "markdown",
   "id": "957a6fe3-a8a3-4bc8-bbe2-f1b0d703ac5a",
   "metadata": {},
   "source": [
    "Underfitting is generally addressed by making your network more complex, whereas overfitting is generally addressed by (i) adding regularization, (ii) adding one/more dropout layer(s), and/or (iii) reducing the complexity of your neural network."
   ]
  },
  {
   "cell_type": "markdown",
   "id": "202f8878-d95d-4ccf-99e3-332186f1a2c4",
   "metadata": {},
   "source": [
    "Because we have a lot of data, we'll use a seperate validation set to evaluate our neural network's performance. This makes the training set a more unbiased estimate of how the model will perform in the real world because it is now data it has never seen before."
   ]
  },
  {
   "cell_type": "markdown",
   "id": "6b01cca7-b0db-4506-9854-9f4d9d80e563",
   "metadata": {},
   "source": [
    "<div style=\"text-align: center;\"> <img src = \"res/cnn_fashion/dataset_split.jpg\" width=\"30%\"/> </div>"
   ]
  },
  {
   "cell_type": "code",
   "execution_count": null,
   "id": "52e179f3-7764-4b57-9432-78d0f7b45b5e",
   "metadata": {},
   "outputs": [],
   "source": [
    "# Let's initialize some constants. \n",
    "# DO NOT CHANGE THESE CONSTANTS.\n",
    "NUMBER_OF_FEATURES = X_train.shape[1]\n",
    "EPOCHES = 100\n",
    "\n",
    "print(f\"There are {NUMBER_OF_FEATURES} in the dataset. Thus, the neural network will have {NUMBER_OF_FEATURES} input nodes.\")"
   ]
  },
  {
   "cell_type": "markdown",
   "id": "492026f9-d963-476d-bbf8-3b7e98ae43d5",
   "metadata": {},
   "source": [
    "### 2.1 | Create Feedforward Neural Network"
   ]
  },
  {
   "cell_type": "code",
   "execution_count": null,
   "id": "fd670a4c-43ea-4d04-873f-f4fb12bf6e95",
   "metadata": {
    "scrolled": true
   },
   "outputs": [],
   "source": [
    "# Create neural network\n",
    "your_neural_network = Sequential() \n",
    "your_neural_network.add( Input( shape= (NUMBER_OF_FEATURES,) ) ) \n",
    "your_neural_network.add(Dense(1, activation='linear'))\n",
    "your_neural_network.add(Dense(1, activation='sigmoid')) \n",
    "\n",
    "# Compiles the model\n",
    "my_learning_rate = 0.000000001\n",
    "your_neural_network.compile(loss='binary_crossentropy', optimizer=Adam(learning_rate=my_learning_rate), \n",
    "              metrics=[keras.metrics.Precision(name=\"precision\"), keras.metrics.Recall(name=\"recall\"),]) \n",
    "your_neural_network.summary()"
   ]
  },
  {
   "cell_type": "code",
   "execution_count": null,
   "id": "1cc102ef-4473-45a5-9b7f-6f074656b3ef",
   "metadata": {
    "scrolled": true
   },
   "outputs": [],
   "source": [
    "#Trains the model\n",
    "your_hist = your_neural_network.fit(X_train, y_train, validation_split=0.1, # Uses 10% of the training data as validation\n",
    "                 epochs=EPOCHES, batch_size=1024)"
   ]
  },
  {
   "cell_type": "markdown",
   "id": "b6104886-f46d-4bbf-bdef-b88dd581aba3",
   "metadata": {},
   "source": [
    "### 2.2 | Evaluate Neural Network"
   ]
  },
  {
   "cell_type": "code",
   "execution_count": null,
   "id": "22ab4d44-232d-40c2-a82b-f805e31974d4",
   "metadata": {},
   "outputs": [],
   "source": [
    "print(\"Training Data Score:\")\n",
    "print_score(your_neural_network, X_train, y_train)"
   ]
  },
  {
   "cell_type": "code",
   "execution_count": null,
   "id": "29929122-ec99-4bfe-8a40-227281ae0085",
   "metadata": {},
   "outputs": [],
   "source": [
    "print(\"Testing Data Score\")\n",
    "print_score(your_neural_network, X_test, y_test)"
   ]
  },
  {
   "cell_type": "markdown",
   "id": "ffb9ec3c-ae2c-422d-a2f8-b38ab918b47c",
   "metadata": {},
   "source": [
    "### 2.3 | Evaluate Training"
   ]
  },
  {
   "cell_type": "code",
   "execution_count": null,
   "id": "864e64a1-1d8f-4655-9907-8fb690ce5dce",
   "metadata": {
    "scrolled": true
   },
   "outputs": [],
   "source": [
    "loss, val_loss = your_hist.history[\"loss\"], your_hist.history[\"val_loss\"]\n",
    "plot_performance(loss, val_loss, \"Loss (Error)\")"
   ]
  },
  {
   "cell_type": "code",
   "execution_count": null,
   "id": "509bebc3-9248-4045-a6e0-de11528aafb1",
   "metadata": {},
   "outputs": [],
   "source": [
    "prec, val_prec = your_hist.history[\"precision\"], your_hist.history[\"val_precision\"]\n",
    "plot_performance(prec, val_prec, \"Precision\")"
   ]
  },
  {
   "cell_type": "code",
   "execution_count": null,
   "id": "16e02681-10ec-41c4-9ec9-3404159a06c9",
   "metadata": {},
   "outputs": [],
   "source": [
    "recall, val_recall = your_hist.history[\"recall\"], your_hist.history[\"val_recall\"]\n",
    "plot_performance(recall, val_recall, \"Recall\")"
   ]
  },
  {
   "cell_type": "markdown",
   "id": "06275f62-5abc-41f3-a0e2-3bbea9ec8794",
   "metadata": {
    "jp-MarkdownHeadingCollapsed": true
   },
   "source": [
    "# 3 | Diagram Your Final Neural Network"
   ]
  },
  {
   "cell_type": "markdown",
   "id": "59dd2a90-45bf-466e-b77d-ec009591dd60",
   "metadata": {},
   "source": [
    "Finished making your neural network? Create a diagram to present to the class: https://alexlenail.me/NN-SVG/index.html"
   ]
  }
 ],
 "metadata": {
  "kernelspec": {
   "display_name": "Python 3 (ipykernel)",
   "language": "python",
   "name": "python3"
  },
  "language_info": {
   "codemirror_mode": {
    "name": "ipython",
    "version": 3
   },
   "file_extension": ".py",
   "mimetype": "text/x-python",
   "name": "python",
   "nbconvert_exporter": "python",
   "pygments_lexer": "ipython3",
   "version": "3.10.0"
  }
 },
 "nbformat": 4,
 "nbformat_minor": 5
}
